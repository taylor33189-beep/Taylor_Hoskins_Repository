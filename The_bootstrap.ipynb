{
  "nbformat": 4,
  "nbformat_minor": 0,
  "metadata": {
    "colab": {
      "provenance": [],
      "authorship_tag": "ABX9TyNF8Z0wmC0hSBhDwPwKb84p",
      "include_colab_link": true
    },
    "kernelspec": {
      "name": "python3",
      "display_name": "Python 3"
    },
    "language_info": {
      "name": "python"
    }
  },
  "cells": [
    {
      "cell_type": "markdown",
      "metadata": {
        "id": "view-in-github",
        "colab_type": "text"
      },
      "source": [
        "<a href=\"https://colab.research.google.com/github/taylor33189-beep/Taylor_Hoskins_Repository/blob/main/The_bootstrap.ipynb\" target=\"_parent\"><img src=\"https://colab.research.google.com/assets/colab-badge.svg\" alt=\"Open In Colab\"/></a>"
      ]
    },
    {
      "cell_type": "code",
      "execution_count": 3,
      "metadata": {
        "colab": {
          "base_uri": "https://localhost:8080/"
        },
        "id": "Jh2H8ESxNmXG",
        "outputId": "09ccd35b-de40-4f6c-df20-750f75049d90"
      },
      "outputs": [
        {
          "output_type": "stream",
          "name": "stdout",
          "text": [
            "Observed Difference (Female - Male): 7.344\n",
            "Bootstrap Standard Error: 2.420\n",
            "95% Empirical (Percentile) CI: [ 2.60838462 12.05848077]\n",
            "95% Parametric (Normal Approx) CI: [ 2.60011551 12.08757679]\n"
          ]
        }
      ],
      "source": [
        "import pandas as pd\n",
        "import numpy as np\n",
        "\n",
        "# --- 1. Load and Prepare Data ---\n",
        "# Load data, handling delimiters\n",
        "try:\n",
        "    df = pd.read_csv(\"/content/bodyfat (1).csv\", delimiter=r'[,\\s]+', header=None, names=['BodyFat', 'Sex'], engine='python')\n",
        "except Exception as e:\n",
        "    df = pd.read_csv(\"/content/bodyfat (1).csv\", header=None, names=['BodyFat', 'Sex'])\n",
        "\n",
        "# Separate data by sex\n",
        "male_body_fat = df[df['Sex'] == 1]['BodyFat'].values\n",
        "female_body_fat = df[df['Sex'] == 2]['BodyFat'].values\n",
        "\n",
        "# --- 2. Calculate Observed Difference ---\n",
        "# Calculate mean body fat for each sex\n",
        "mean_male = np.mean(male_body_fat)\n",
        "mean_female = np.mean(female_body_fat)\n",
        "\n",
        "# Calculate the difference\n",
        "observed_difference = mean_female - mean_male\n",
        "\n",
        "# --- 3. Set up Bootstrapping ---\n",
        "# Number of bootstrap replicates\n",
        "num_bootstrap_replicates = 10000\n",
        "# Array to store differences\n",
        "bootstrap_differences = np.empty(num_bootstrap_replicates)\n",
        "\n",
        "# --- 4. Perform Bootstrapping ---\n",
        "# Loop through replicates\n",
        "for i in range(num_bootstrap_replicates):\n",
        "    # Resample data with replacement\n",
        "    male_resample = np.random.choice(male_body_fat, size=len(male_body_fat), replace=True)\n",
        "    female_resample = np.random.choice(female_body_fat, size=len(female_body_fat), replace=True)\n",
        "\n",
        "    # Calculate mean difference of resamples and store\n",
        "    bootstrap_differences[i] = np.mean(female_resample) - np.mean(male_resample)\n",
        "\n",
        "# --- 5. Calculate Confidence Intervals ---\n",
        "# **Method 1: Empirical (Percentile) CI**\n",
        "# Find the 2.5th and 97.5th percentiles\n",
        "empirical_ci = np.percentile(bootstrap_differences, [2.5, 97.5])\n",
        "\n",
        "# **Method 2: Parametric (Normal Approximation) CI**\n",
        "# Calculate bootstrap standard error (SE)\n",
        "bootstrap_standard_error = np.std(bootstrap_differences)\n",
        "\n",
        "# Critical z-value for 95% CI\n",
        "z_critical = 1.96\n",
        "\n",
        "# Calculate CI bounds\n",
        "parametric_ci_lower = observed_difference - z_critical * bootstrap_standard_error\n",
        "parametric_ci_upper = observed_difference + z_critical * bootstrap_standard_error\n",
        "parametric_ci = np.array([parametric_ci_lower, parametric_ci_upper])\n",
        "\n",
        "# --- 6. Print Results ---\n",
        "print(f\"Observed Difference (Female - Male): {observed_difference:.3f}\")\n",
        "print(f\"Bootstrap Standard Error: {bootstrap_standard_error:.3f}\")\n",
        "print(f\"95% Empirical (Percentile) CI: {empirical_ci}\")\n",
        "print(f\"95% Parametric (Normal Approx) CI: {parametric_ci}\")"
      ]
    }
  ]
}