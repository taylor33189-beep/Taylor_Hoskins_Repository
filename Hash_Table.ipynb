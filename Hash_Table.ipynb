{
  "nbformat": 4,
  "nbformat_minor": 0,
  "metadata": {
    "colab": {
      "provenance": [],
      "authorship_tag": "ABX9TyPsGestnnUcZUW+JP9kqtxV",
      "include_colab_link": true
    },
    "kernelspec": {
      "name": "python3",
      "display_name": "Python 3"
    },
    "language_info": {
      "name": "python"
    }
  },
  "cells": [
    {
      "cell_type": "markdown",
      "metadata": {
        "id": "view-in-github",
        "colab_type": "text"
      },
      "source": [
        "<a href=\"https://colab.research.google.com/github/taylor33189-beep/Taylor_Hoskins_Repository/blob/main/Hash_Table.ipynb\" target=\"_parent\"><img src=\"https://colab.research.google.com/assets/colab-badge.svg\" alt=\"Open In Colab\"/></a>"
      ]
    },
    {
      "cell_type": "code",
      "execution_count": 1,
      "metadata": {
        "colab": {
          "base_uri": "https://localhost:8080/"
        },
        "id": "XLmgsDqwCkOU",
        "outputId": "68c922db-90ac-46d6-afc2-7ad2ad053441"
      },
      "outputs": [
        {
          "output_type": "stream",
          "name": "stdout",
          "text": [
            "--- Hash Table Insertion Process (Size 10) ---\n",
            "\n",
            "Inserted Key 15 at Index 5 (Probe i=0).\n",
            "Table state after inserting 15: [-1, -1, -1, -1, -1, 15, -1, -1, -1, -1]\n",
            "\n",
            "Inserted Key 27 at Index 7 (Probe i=0).\n",
            "Table state after inserting 27: [-1, -1, -1, -1, -1, 15, -1, 27, -1, -1]\n",
            "\n",
            "COLLISION for Key 5 at Index 5 (Probe i=0). Trying next probe...\n",
            "Inserted Key 5 at Index 6 (Probe i=1).\n",
            "Table state after inserting 5: [-1, -1, -1, -1, -1, 15, 5, 27, -1, -1]\n",
            "\n",
            "Inserted Key 12 at Index 2 (Probe i=0).\n",
            "Table state after inserting 12: [-1, -1, 12, -1, -1, 15, 5, 27, -1, -1]\n",
            "\n",
            "COLLISION for Key 35 at Index 5 (Probe i=0). Trying next probe...\n",
            "COLLISION for Key 35 at Index 6 (Probe i=1). Trying next probe...\n",
            "Inserted Key 35 at Index 3 (Probe i=2).\n",
            "Table state after inserting 35: [-1, -1, 12, 35, -1, 15, 5, 27, -1, -1]\n",
            "\n",
            "--- Final Hash Table ---\n",
            "Index: [ 0, 1, 2, 3, 4, 5, 6, 7, 8, 9 ]\n",
            "Value: [-1, -1, 12, 35, -1, 15, 5, 27, -1, -1]\n"
          ]
        }
      ],
      "source": [
        "\n",
        "# 1. Hash Function Implementation\n",
        "# The probing function is h(k, i) = (k + i^3) mod 10\n",
        "def hash_func(k, i):\n",
        "    \"\"\"\n",
        "    Calculates the hash index using the open addressing probing function.\n",
        "    k: key to insert\n",
        "    i: iteration (probe) number, starting at 0\n",
        "    \"\"\"\n",
        "    return (k + i**3) % 10\n",
        "\n",
        "# 2. Hash Table Initialization\n",
        "TABLE_SIZE = 10\n",
        "# Initialize all slots to -1 (the signal for an empty slot)\n",
        "hash_table = [-1] * TABLE_SIZE\n",
        "\n",
        "# 3. Keys to Insert\n",
        "keys = [15, 27, 5, 12, 35]\n",
        "\n",
        "print(\"--- Hash Table Insertion Process (Size 10) ---\\n\")\n",
        "\n",
        "# Main loop to insert each key\n",
        "for key in keys:\n",
        "    i = 0  # Start probe iteration at 0\n",
        "\n",
        "    # Loop to find an empty slot using open addressing\n",
        "    while True:\n",
        "        # Calculate the next index to check\n",
        "        index = hash_func(key, i)\n",
        "\n",
        "        # Check for empty slot\n",
        "        if hash_table[index] == -1:\n",
        "            hash_table[index] = key  # Insert the key\n",
        "            print(f\"Inserted Key {key} at Index {index} (Probe i={i}).\")\n",
        "            break\n",
        "\n",
        "        # Collision: the slot is already taken\n",
        "        else:\n",
        "            print(f\"COLLISION for Key {key} at Index {index} (Probe i={i}). Trying next probe...\")\n",
        "            i += 1  # Increment the probe number (i) and try again\n",
        "\n",
        "            # Safety check (optional, but good practice):\n",
        "            if i >= TABLE_SIZE:\n",
        "                print(f\"Table full after {TABLE_SIZE} probes, skipping key {key}.\")\n",
        "                break\n",
        "\n",
        "    # 5. Program Output: Print hash table state after each key insertion\n",
        "    print(f\"Table state after inserting {key}: {hash_table}\\n\")\n",
        "\n",
        "print(\"--- Final Hash Table ---\")\n",
        "print(\"Index: [ 0, 1, 2, 3, 4, 5, 6, 7, 8, 9 ]\")\n",
        "print(f\"Value: {hash_table}\")"
      ]
    }
  ]
}